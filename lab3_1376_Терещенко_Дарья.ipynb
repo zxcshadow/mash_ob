{
 "cells": [
  {
   "cell_type": "markdown",
   "id": "83ec2aec",
   "metadata": {},
   "source": [
    "https://www.kaggle.com/datasets/aravindpcoder/obesity-or-cvd-risk-classifyregressorcluster/ Этот набор данных включает данные для оценки уровней ожирения у лиц из Мексики, Перу и Колумбии на основе их привычек питания и физического состояния."
   ]
  },
  {
   "cell_type": "code",
   "execution_count": 99,
   "id": "575faf9e",
   "metadata": {},
   "outputs": [],
   "source": [
    "from sklearn import metrics"
   ]
  },
  {
   "cell_type": "code",
   "execution_count": 100,
   "id": "5b464fd4",
   "metadata": {},
   "outputs": [
    {
     "data": {
      "text/html": [
       "<div>\n",
       "<style scoped>\n",
       "    .dataframe tbody tr th:only-of-type {\n",
       "        vertical-align: middle;\n",
       "    }\n",
       "\n",
       "    .dataframe tbody tr th {\n",
       "        vertical-align: top;\n",
       "    }\n",
       "\n",
       "    .dataframe thead th {\n",
       "        text-align: right;\n",
       "    }\n",
       "</style>\n",
       "<table border=\"1\" class=\"dataframe\">\n",
       "  <thead>\n",
       "    <tr style=\"text-align: right;\">\n",
       "      <th></th>\n",
       "      <th>Gender</th>\n",
       "      <th>Age</th>\n",
       "      <th>Height</th>\n",
       "      <th>Weight</th>\n",
       "      <th>family_history_with_overweight</th>\n",
       "      <th>FAVC</th>\n",
       "      <th>FCVC</th>\n",
       "      <th>NCP</th>\n",
       "      <th>CAEC</th>\n",
       "      <th>SMOKE</th>\n",
       "      <th>CH2O</th>\n",
       "      <th>SCC</th>\n",
       "      <th>FAF</th>\n",
       "      <th>TUE</th>\n",
       "      <th>CALC</th>\n",
       "      <th>MTRANS</th>\n",
       "      <th>NObeyesdad</th>\n",
       "    </tr>\n",
       "  </thead>\n",
       "  <tbody>\n",
       "    <tr>\n",
       "      <th>0</th>\n",
       "      <td>Female</td>\n",
       "      <td>21.0</td>\n",
       "      <td>1.62</td>\n",
       "      <td>64.0</td>\n",
       "      <td>yes</td>\n",
       "      <td>no</td>\n",
       "      <td>2.0</td>\n",
       "      <td>3.0</td>\n",
       "      <td>Sometimes</td>\n",
       "      <td>no</td>\n",
       "      <td>2.0</td>\n",
       "      <td>no</td>\n",
       "      <td>0.0</td>\n",
       "      <td>1.0</td>\n",
       "      <td>no</td>\n",
       "      <td>Public_Transportation</td>\n",
       "      <td>Normal_Weight</td>\n",
       "    </tr>\n",
       "    <tr>\n",
       "      <th>1</th>\n",
       "      <td>Female</td>\n",
       "      <td>21.0</td>\n",
       "      <td>1.52</td>\n",
       "      <td>56.0</td>\n",
       "      <td>yes</td>\n",
       "      <td>no</td>\n",
       "      <td>3.0</td>\n",
       "      <td>3.0</td>\n",
       "      <td>Sometimes</td>\n",
       "      <td>yes</td>\n",
       "      <td>3.0</td>\n",
       "      <td>yes</td>\n",
       "      <td>3.0</td>\n",
       "      <td>0.0</td>\n",
       "      <td>Sometimes</td>\n",
       "      <td>Public_Transportation</td>\n",
       "      <td>Normal_Weight</td>\n",
       "    </tr>\n",
       "    <tr>\n",
       "      <th>2</th>\n",
       "      <td>Male</td>\n",
       "      <td>23.0</td>\n",
       "      <td>1.80</td>\n",
       "      <td>77.0</td>\n",
       "      <td>yes</td>\n",
       "      <td>no</td>\n",
       "      <td>2.0</td>\n",
       "      <td>3.0</td>\n",
       "      <td>Sometimes</td>\n",
       "      <td>no</td>\n",
       "      <td>2.0</td>\n",
       "      <td>no</td>\n",
       "      <td>2.0</td>\n",
       "      <td>1.0</td>\n",
       "      <td>Frequently</td>\n",
       "      <td>Public_Transportation</td>\n",
       "      <td>Normal_Weight</td>\n",
       "    </tr>\n",
       "    <tr>\n",
       "      <th>3</th>\n",
       "      <td>Male</td>\n",
       "      <td>27.0</td>\n",
       "      <td>1.80</td>\n",
       "      <td>87.0</td>\n",
       "      <td>no</td>\n",
       "      <td>no</td>\n",
       "      <td>3.0</td>\n",
       "      <td>3.0</td>\n",
       "      <td>Sometimes</td>\n",
       "      <td>no</td>\n",
       "      <td>2.0</td>\n",
       "      <td>no</td>\n",
       "      <td>2.0</td>\n",
       "      <td>0.0</td>\n",
       "      <td>Frequently</td>\n",
       "      <td>Walking</td>\n",
       "      <td>Overweight_Level_I</td>\n",
       "    </tr>\n",
       "    <tr>\n",
       "      <th>4</th>\n",
       "      <td>Male</td>\n",
       "      <td>22.0</td>\n",
       "      <td>1.78</td>\n",
       "      <td>89.8</td>\n",
       "      <td>no</td>\n",
       "      <td>no</td>\n",
       "      <td>2.0</td>\n",
       "      <td>1.0</td>\n",
       "      <td>Sometimes</td>\n",
       "      <td>no</td>\n",
       "      <td>2.0</td>\n",
       "      <td>no</td>\n",
       "      <td>0.0</td>\n",
       "      <td>0.0</td>\n",
       "      <td>Sometimes</td>\n",
       "      <td>Public_Transportation</td>\n",
       "      <td>Overweight_Level_II</td>\n",
       "    </tr>\n",
       "  </tbody>\n",
       "</table>\n",
       "</div>"
      ],
      "text/plain": [
       "   Gender   Age  Height  Weight family_history_with_overweight FAVC  FCVC  \\\n",
       "0  Female  21.0    1.62    64.0                            yes   no   2.0   \n",
       "1  Female  21.0    1.52    56.0                            yes   no   3.0   \n",
       "2    Male  23.0    1.80    77.0                            yes   no   2.0   \n",
       "3    Male  27.0    1.80    87.0                             no   no   3.0   \n",
       "4    Male  22.0    1.78    89.8                             no   no   2.0   \n",
       "\n",
       "   NCP       CAEC SMOKE  CH2O  SCC  FAF  TUE        CALC  \\\n",
       "0  3.0  Sometimes    no   2.0   no  0.0  1.0          no   \n",
       "1  3.0  Sometimes   yes   3.0  yes  3.0  0.0   Sometimes   \n",
       "2  3.0  Sometimes    no   2.0   no  2.0  1.0  Frequently   \n",
       "3  3.0  Sometimes    no   2.0   no  2.0  0.0  Frequently   \n",
       "4  1.0  Sometimes    no   2.0   no  0.0  0.0   Sometimes   \n",
       "\n",
       "                  MTRANS           NObeyesdad  \n",
       "0  Public_Transportation        Normal_Weight  \n",
       "1  Public_Transportation        Normal_Weight  \n",
       "2  Public_Transportation        Normal_Weight  \n",
       "3                Walking   Overweight_Level_I  \n",
       "4  Public_Transportation  Overweight_Level_II  "
      ]
     },
     "execution_count": 100,
     "metadata": {},
     "output_type": "execute_result"
    }
   ],
   "source": [
    "from sklearn import metrics\n",
    "import pandas as pd\n",
    "df = pd.read_csv(\"C:\\\\Users\\\\HP\\\\Desktop\\\\ObesityDataSet.csv\")\n",
    "df.head()"
   ]
  },
  {
   "cell_type": "markdown",
   "id": "0c4177b4",
   "metadata": {},
   "source": [
    "Для дальнейшей работы выберем некоторые атрибуты"
   ]
  },
  {
   "cell_type": "code",
   "execution_count": 101,
   "id": "72df9d8b",
   "metadata": {},
   "outputs": [
    {
     "data": {
      "text/html": [
       "<div>\n",
       "<style scoped>\n",
       "    .dataframe tbody tr th:only-of-type {\n",
       "        vertical-align: middle;\n",
       "    }\n",
       "\n",
       "    .dataframe tbody tr th {\n",
       "        vertical-align: top;\n",
       "    }\n",
       "\n",
       "    .dataframe thead th {\n",
       "        text-align: right;\n",
       "    }\n",
       "</style>\n",
       "<table border=\"1\" class=\"dataframe\">\n",
       "  <thead>\n",
       "    <tr style=\"text-align: right;\">\n",
       "      <th></th>\n",
       "      <th>Weight</th>\n",
       "      <th>CH2O</th>\n",
       "      <th>FAF</th>\n",
       "      <th>TUE</th>\n",
       "    </tr>\n",
       "  </thead>\n",
       "  <tbody>\n",
       "    <tr>\n",
       "      <th>0</th>\n",
       "      <td>64.0</td>\n",
       "      <td>2.0</td>\n",
       "      <td>0.0</td>\n",
       "      <td>1.0</td>\n",
       "    </tr>\n",
       "    <tr>\n",
       "      <th>1</th>\n",
       "      <td>56.0</td>\n",
       "      <td>3.0</td>\n",
       "      <td>3.0</td>\n",
       "      <td>0.0</td>\n",
       "    </tr>\n",
       "    <tr>\n",
       "      <th>2</th>\n",
       "      <td>77.0</td>\n",
       "      <td>2.0</td>\n",
       "      <td>2.0</td>\n",
       "      <td>1.0</td>\n",
       "    </tr>\n",
       "    <tr>\n",
       "      <th>3</th>\n",
       "      <td>87.0</td>\n",
       "      <td>2.0</td>\n",
       "      <td>2.0</td>\n",
       "      <td>0.0</td>\n",
       "    </tr>\n",
       "    <tr>\n",
       "      <th>4</th>\n",
       "      <td>89.8</td>\n",
       "      <td>2.0</td>\n",
       "      <td>0.0</td>\n",
       "      <td>0.0</td>\n",
       "    </tr>\n",
       "  </tbody>\n",
       "</table>\n",
       "</div>"
      ],
      "text/plain": [
       "   Weight  CH2O  FAF  TUE\n",
       "0    64.0   2.0  0.0  1.0\n",
       "1    56.0   3.0  3.0  0.0\n",
       "2    77.0   2.0  2.0  1.0\n",
       "3    87.0   2.0  2.0  0.0\n",
       "4    89.8   2.0  0.0  0.0"
      ]
     },
     "execution_count": 101,
     "metadata": {},
     "output_type": "execute_result"
    }
   ],
   "source": [
    "df = df[['Weight', 'CH2O', 'FAF', 'TUE']]\n",
    "df.head()"
   ]
  },
  {
   "cell_type": "markdown",
   "id": "5d86c287",
   "metadata": {},
   "source": [
    "Для выполнения данного задания вам необходимо сначала оценить, насколько набор\n",
    "данных, выбранный вами ранее, подходит для решения задачи. Для этого следует:\n",
    "\n",
    "1) Оценить какой атрибут выступит в роли целевого класса (метки)\n",
    "2) Оценить сбалансированность классов"
   ]
  },
  {
   "cell_type": "code",
   "execution_count": 102,
   "id": "b5ae8966",
   "metadata": {},
   "outputs": [
    {
     "data": {
      "text/html": [
       "<div>\n",
       "<style scoped>\n",
       "    .dataframe tbody tr th:only-of-type {\n",
       "        vertical-align: middle;\n",
       "    }\n",
       "\n",
       "    .dataframe tbody tr th {\n",
       "        vertical-align: top;\n",
       "    }\n",
       "\n",
       "    .dataframe thead th {\n",
       "        text-align: right;\n",
       "    }\n",
       "</style>\n",
       "<table border=\"1\" class=\"dataframe\">\n",
       "  <thead>\n",
       "    <tr style=\"text-align: right;\">\n",
       "      <th></th>\n",
       "      <th>Weight</th>\n",
       "      <th>CH2O</th>\n",
       "      <th>FAF</th>\n",
       "      <th>TUE</th>\n",
       "      <th>Obesity_values</th>\n",
       "    </tr>\n",
       "  </thead>\n",
       "  <tbody>\n",
       "    <tr>\n",
       "      <th>0</th>\n",
       "      <td>64.0</td>\n",
       "      <td>2.0</td>\n",
       "      <td>0.0</td>\n",
       "      <td>1.0</td>\n",
       "      <td>Obesity III</td>\n",
       "    </tr>\n",
       "    <tr>\n",
       "      <th>1</th>\n",
       "      <td>56.0</td>\n",
       "      <td>3.0</td>\n",
       "      <td>3.0</td>\n",
       "      <td>0.0</td>\n",
       "      <td>Obesity III</td>\n",
       "    </tr>\n",
       "    <tr>\n",
       "      <th>2</th>\n",
       "      <td>77.0</td>\n",
       "      <td>2.0</td>\n",
       "      <td>2.0</td>\n",
       "      <td>1.0</td>\n",
       "      <td>Obesity III</td>\n",
       "    </tr>\n",
       "    <tr>\n",
       "      <th>3</th>\n",
       "      <td>87.0</td>\n",
       "      <td>2.0</td>\n",
       "      <td>2.0</td>\n",
       "      <td>0.0</td>\n",
       "      <td>Obesity III</td>\n",
       "    </tr>\n",
       "    <tr>\n",
       "      <th>4</th>\n",
       "      <td>89.8</td>\n",
       "      <td>2.0</td>\n",
       "      <td>0.0</td>\n",
       "      <td>0.0</td>\n",
       "      <td>Obesity III</td>\n",
       "    </tr>\n",
       "  </tbody>\n",
       "</table>\n",
       "</div>"
      ],
      "text/plain": [
       "   Weight  CH2O  FAF  TUE Obesity_values\n",
       "0    64.0   2.0  0.0  1.0    Obesity III\n",
       "1    56.0   3.0  3.0  0.0    Obesity III\n",
       "2    77.0   2.0  2.0  1.0    Obesity III\n",
       "3    87.0   2.0  2.0  0.0    Obesity III\n",
       "4    89.8   2.0  0.0  0.0    Obesity III"
      ]
     },
     "execution_count": 102,
     "metadata": {},
     "output_type": "execute_result"
    }
   ],
   "source": [
    "import pandas as pd\n",
    "import numpy as np\n",
    "\n",
    "def Obesity_values(row):\n",
    "    first = row[\"Weight\"]\n",
    "\n",
    "    if (first < 18.5):\n",
    "        return 'Normal'\n",
    "    elif (18.5 < first < 24.9):\n",
    "        return 'Normal'\n",
    "    elif (25.0 < first < 29.9):\n",
    "        return 'Overweight'\n",
    "    elif (30.0 < first < 34.9):\n",
    "        return 'Obesity I '\n",
    "    elif (35.0< first < 39.9):\n",
    "        return 'Obesity II'\n",
    "    else:\n",
    "        return 'Obesity III'\n",
    "        \n",
    "\n",
    "df[\"Obesity_values\"] = df.apply(lambda row: Obesity_values(row), axis=1)\n",
    "df.head()"
   ]
  },
  {
   "cell_type": "markdown",
   "id": "2bb4fbe1",
   "metadata": {},
   "source": [
    "В роли целевого атрибута выступит \"Obesity_values\""
   ]
  },
  {
   "cell_type": "code",
   "execution_count": 103,
   "id": "d109f81d",
   "metadata": {},
   "outputs": [
    {
     "data": {
      "text/plain": [
       "(2111, 5)"
      ]
     },
     "execution_count": 103,
     "metadata": {},
     "output_type": "execute_result"
    }
   ],
   "source": [
    "df.shape"
   ]
  },
  {
   "cell_type": "code",
   "execution_count": 104,
   "id": "09a46f1d",
   "metadata": {},
   "outputs": [
    {
     "data": {
      "text/plain": [
       "Obesity_values\n",
       "Obesity III    2106\n",
       "Obesity II        5\n",
       "Name: count, dtype: int64"
      ]
     },
     "execution_count": 104,
     "metadata": {},
     "output_type": "execute_result"
    }
   ],
   "source": [
    "df['Obesity_values'].value_counts()"
   ]
  },
  {
   "cell_type": "markdown",
   "id": "6823e20b",
   "metadata": {},
   "source": [
    "• Недостаточный вес Менее 18,5 \n",
    "• Нормальный от 18,5 до 24,9 \n",
    "• Избыточный вес от 25,0 до 29,9 \n",
    "• Ожирение I от 30,0 до 34,9 \n",
    "• Ожирение II от 35,0 до 39,9 \n",
    "• Ожирение III Выше 40."
   ]
  },
  {
   "cell_type": "markdown",
   "id": "918a1142",
   "metadata": {},
   "source": [
    "можно увидеть что в основном это люди с ожирением 3 степени, класс несбалансированный"
   ]
  },
  {
   "cell_type": "markdown",
   "id": "5746d183",
   "metadata": {},
   "source": [
    "1. Необходимо оценить и сравнить результаты классификации, используя следующие\n",
    "алгоритмы классификации:\n",
    "* kNN\n",
    "* дерево решений"
   ]
  },
  {
   "cell_type": "markdown",
   "id": "12d2edb7",
   "metadata": {},
   "source": [
    "kNN"
   ]
  },
  {
   "cell_type": "code",
   "execution_count": 105,
   "id": "17b6fe2e",
   "metadata": {},
   "outputs": [],
   "source": [
    "import numpy as np \n",
    "import matplotlib.pyplot as plt \n",
    "import pandas as pd\n"
   ]
  },
  {
   "cell_type": "markdown",
   "id": "0bb87ca3",
   "metadata": {},
   "source": [
    "Переменная x содержит первые 6 столбца набора данных (т.е. атрибуты), а y содержит метки."
   ]
  },
  {
   "cell_type": "code",
   "execution_count": 106,
   "id": "9c532f13",
   "metadata": {},
   "outputs": [],
   "source": [
    "X = df.iloc[:, :-1].values \n",
    "y = df.iloc[:, 4].values\n"
   ]
  },
  {
   "cell_type": "markdown",
   "id": "1d213388",
   "metadata": {},
   "source": [
    "скрипт разбивает набор данных на 80% данных поезда и 20% данных теста\n"
   ]
  },
  {
   "cell_type": "code",
   "execution_count": 107,
   "id": "26c4ff90",
   "metadata": {},
   "outputs": [],
   "source": [
    "from sklearn.model_selection import train_test_split \n",
    "X_train, X_test, y_train, y_test = train_test_split(X, y, test_size=0.20)\n"
   ]
  },
  {
   "cell_type": "markdown",
   "id": "cee380de",
   "metadata": {},
   "source": [
    "масштабирование функций\n"
   ]
  },
  {
   "cell_type": "code",
   "execution_count": 108,
   "id": "06f826e8",
   "metadata": {},
   "outputs": [],
   "source": [
    "from sklearn.preprocessing import StandardScaler \n",
    "scaler = StandardScaler() \n",
    "scaler.fit(X_train) \n",
    "X_train = scaler.transform(X_train) \n",
    "X_test = scaler.transform(X_test)\n"
   ]
  },
  {
   "cell_type": "markdown",
   "id": "32071ba2",
   "metadata": {},
   "source": [
    "импортируем класс KNeighborsClassifier из библиотеки sklearn.neighbors. Во второй строке этот класс инициализируется одним параметром, то есть n_neigbours. По сути, это значение для K. Идеального значения для K не существует, и оно выбирается после тестирования и оценки, однако для начала наиболее часто используемым значением для алгоритма KNN является 5\n"
   ]
  },
  {
   "cell_type": "code",
   "execution_count": 109,
   "id": "56908b78",
   "metadata": {},
   "outputs": [
    {
     "data": {
      "text/html": [
       "<style>#sk-container-id-6 {color: black;}#sk-container-id-6 pre{padding: 0;}#sk-container-id-6 div.sk-toggleable {background-color: white;}#sk-container-id-6 label.sk-toggleable__label {cursor: pointer;display: block;width: 100%;margin-bottom: 0;padding: 0.3em;box-sizing: border-box;text-align: center;}#sk-container-id-6 label.sk-toggleable__label-arrow:before {content: \"▸\";float: left;margin-right: 0.25em;color: #696969;}#sk-container-id-6 label.sk-toggleable__label-arrow:hover:before {color: black;}#sk-container-id-6 div.sk-estimator:hover label.sk-toggleable__label-arrow:before {color: black;}#sk-container-id-6 div.sk-toggleable__content {max-height: 0;max-width: 0;overflow: hidden;text-align: left;background-color: #f0f8ff;}#sk-container-id-6 div.sk-toggleable__content pre {margin: 0.2em;color: black;border-radius: 0.25em;background-color: #f0f8ff;}#sk-container-id-6 input.sk-toggleable__control:checked~div.sk-toggleable__content {max-height: 200px;max-width: 100%;overflow: auto;}#sk-container-id-6 input.sk-toggleable__control:checked~label.sk-toggleable__label-arrow:before {content: \"▾\";}#sk-container-id-6 div.sk-estimator input.sk-toggleable__control:checked~label.sk-toggleable__label {background-color: #d4ebff;}#sk-container-id-6 div.sk-label input.sk-toggleable__control:checked~label.sk-toggleable__label {background-color: #d4ebff;}#sk-container-id-6 input.sk-hidden--visually {border: 0;clip: rect(1px 1px 1px 1px);clip: rect(1px, 1px, 1px, 1px);height: 1px;margin: -1px;overflow: hidden;padding: 0;position: absolute;width: 1px;}#sk-container-id-6 div.sk-estimator {font-family: monospace;background-color: #f0f8ff;border: 1px dotted black;border-radius: 0.25em;box-sizing: border-box;margin-bottom: 0.5em;}#sk-container-id-6 div.sk-estimator:hover {background-color: #d4ebff;}#sk-container-id-6 div.sk-parallel-item::after {content: \"\";width: 100%;border-bottom: 1px solid gray;flex-grow: 1;}#sk-container-id-6 div.sk-label:hover label.sk-toggleable__label {background-color: #d4ebff;}#sk-container-id-6 div.sk-serial::before {content: \"\";position: absolute;border-left: 1px solid gray;box-sizing: border-box;top: 0;bottom: 0;left: 50%;z-index: 0;}#sk-container-id-6 div.sk-serial {display: flex;flex-direction: column;align-items: center;background-color: white;padding-right: 0.2em;padding-left: 0.2em;position: relative;}#sk-container-id-6 div.sk-item {position: relative;z-index: 1;}#sk-container-id-6 div.sk-parallel {display: flex;align-items: stretch;justify-content: center;background-color: white;position: relative;}#sk-container-id-6 div.sk-item::before, #sk-container-id-6 div.sk-parallel-item::before {content: \"\";position: absolute;border-left: 1px solid gray;box-sizing: border-box;top: 0;bottom: 0;left: 50%;z-index: -1;}#sk-container-id-6 div.sk-parallel-item {display: flex;flex-direction: column;z-index: 1;position: relative;background-color: white;}#sk-container-id-6 div.sk-parallel-item:first-child::after {align-self: flex-end;width: 50%;}#sk-container-id-6 div.sk-parallel-item:last-child::after {align-self: flex-start;width: 50%;}#sk-container-id-6 div.sk-parallel-item:only-child::after {width: 0;}#sk-container-id-6 div.sk-dashed-wrapped {border: 1px dashed gray;margin: 0 0.4em 0.5em 0.4em;box-sizing: border-box;padding-bottom: 0.4em;background-color: white;}#sk-container-id-6 div.sk-label label {font-family: monospace;font-weight: bold;display: inline-block;line-height: 1.2em;}#sk-container-id-6 div.sk-label-container {text-align: center;}#sk-container-id-6 div.sk-container {/* jupyter's `normalize.less` sets `[hidden] { display: none; }` but bootstrap.min.css set `[hidden] { display: none !important; }` so we also need the `!important` here to be able to override the default hidden behavior on the sphinx rendered scikit-learn.org. See: https://github.com/scikit-learn/scikit-learn/issues/21755 */display: inline-block !important;position: relative;}#sk-container-id-6 div.sk-text-repr-fallback {display: none;}</style><div id=\"sk-container-id-6\" class=\"sk-top-container\"><div class=\"sk-text-repr-fallback\"><pre>KNeighborsClassifier()</pre><b>In a Jupyter environment, please rerun this cell to show the HTML representation or trust the notebook. <br />On GitHub, the HTML representation is unable to render, please try loading this page with nbviewer.org.</b></div><div class=\"sk-container\" hidden><div class=\"sk-item\"><div class=\"sk-estimator sk-toggleable\"><input class=\"sk-toggleable__control sk-hidden--visually\" id=\"sk-estimator-id-6\" type=\"checkbox\" checked><label for=\"sk-estimator-id-6\" class=\"sk-toggleable__label sk-toggleable__label-arrow\">KNeighborsClassifier</label><div class=\"sk-toggleable__content\"><pre>KNeighborsClassifier()</pre></div></div></div></div></div>"
      ],
      "text/plain": [
       "KNeighborsClassifier()"
      ]
     },
     "execution_count": 109,
     "metadata": {},
     "output_type": "execute_result"
    }
   ],
   "source": [
    "from sklearn.neighbors import KNeighborsClassifier \n",
    "classifier = KNeighborsClassifier(n_neighbors=5) \n",
    "classifier.fit(X_train, y_train)\n",
    "\n"
   ]
  },
  {
   "cell_type": "code",
   "execution_count": 110,
   "id": "d3989470",
   "metadata": {},
   "outputs": [],
   "source": [
    "y_pred = classifier.predict(X_test)\n"
   ]
  },
  {
   "cell_type": "markdown",
   "id": "7eb18cab",
   "metadata": {},
   "source": [
    "Для задач классификации часто используются такие показатели, как матрица неточностей, точность, отзыв и оценка F1.Библиотека метрик Scikit = -Learn содержит методы классификации_report и confusion_matrix, которые можно использовать для расчета этих показателей для нас:\n"
   ]
  },
  {
   "cell_type": "markdown",
   "id": "9536328a",
   "metadata": {},
   "source": [
    "Добавила zero_division=0, тк датасет содержит классы, которые не были предсказаны моделью"
   ]
  },
  {
   "cell_type": "code",
   "execution_count": 124,
   "id": "aa693bff",
   "metadata": {},
   "outputs": [
    {
     "name": "stdout",
     "output_type": "stream",
     "text": [
      "[[  0   2]\n",
      " [  0 421]]\n",
      "              precision    recall  f1-score   support\n",
      "\n",
      "  Obesity II       0.00      0.00      0.00         2\n",
      " Obesity III       1.00      1.00      1.00       421\n",
      "\n",
      "    accuracy                           1.00       423\n",
      "   macro avg       0.50      0.50      0.50       423\n",
      "weighted avg       0.99      1.00      0.99       423\n",
      "\n"
     ]
    }
   ],
   "source": [
    "from sklearn.metrics import classification_report, confusion_matrix \n",
    "print(confusion_matrix(y_test, y_pred)) \n",
    "print(classification_report(y_test, y_pred, zero_division=0))\n"
   ]
  },
  {
   "cell_type": "markdown",
   "id": "f466051f",
   "metadata": {},
   "source": [
    "\n",
    "Obesity II:\n",
    "Если F1-score (также известный как F-мера) равен нулю, это означает, что модель не смогла правильно предсказать ни одного положительного экземпляра из класса. F1-мера является мерой качества классификации, которая учитывает как точность, так и полноту модели. Если модель не может правильно предсказать ни один положительный экземпляр, то ее точность и полнота будут равны нулю, что приведет к F1-мере равной нулю."
   ]
  },
  {
   "cell_type": "markdown",
   "id": "d0ff7f0e",
   "metadata": {},
   "source": [
    "1) вывод по weighted avg: модель правильно классифицировала все объекты в обучающей выборке с точностью 0.99. Однако, поскольку это только обучающая выборка, реальная точность модели на всех данных может быть ниже.\n",
    "2) вывод по macro avg: точность классификации для каждого класса составляет 50%. Это может указывать на то, что модель работает плохо и нуждается в доработке.\n",
    "3) Если accuracy равен 1.0, то это означает, что модель точно предсказала все метки классов в обучающей выборке."
   ]
  },
  {
   "cell_type": "markdown",
   "id": "a98b540b",
   "metadata": {},
   "source": [
    "Дерево решений"
   ]
  },
  {
   "cell_type": "code",
   "execution_count": 120,
   "id": "2c421ef5",
   "metadata": {},
   "outputs": [],
   "source": [
    "import pandas as pd \n",
    "import numpy as np \n",
    "import matplotlib.pyplot as plt \n",
    "%matplotlib inline\n"
   ]
  },
  {
   "cell_type": "markdown",
   "id": "f4cae237",
   "metadata": {},
   "source": [
    "в нашем наборе данных 2111 записи и 5 атрибутов\n"
   ]
  },
  {
   "cell_type": "code",
   "execution_count": 121,
   "id": "ad35bda2",
   "metadata": {},
   "outputs": [
    {
     "data": {
      "text/plain": [
       "(2111, 5)"
      ]
     },
     "execution_count": 121,
     "metadata": {},
     "output_type": "execute_result"
    }
   ],
   "source": [
    "df.shape"
   ]
  },
  {
   "cell_type": "code",
   "execution_count": 123,
   "id": "2b367067",
   "metadata": {},
   "outputs": [],
   "source": [
    "X = df.drop('Obesity_values', axis=1) \n",
    "y = df['Obesity_values']\n"
   ]
  },
  {
   "cell_type": "markdown",
   "id": "9ee375bd",
   "metadata": {},
   "source": [
    "Здесь переменная X содержит все столбцы из набора данных, кроме столбца «Obesity_values», который является меткой. Переменная y содержит значения из столбца «Obesity_values». Переменная X – это наш набор атрибутов, а переменная y содержит соответствующие метки.\n"
   ]
  },
  {
   "cell_type": "code",
   "execution_count": null,
   "id": "0d60b255",
   "metadata": {},
   "outputs": [],
   "source": [
    "from sklearn.model_selection import train_test_split \n",
    "X_train, X_test, y_train, y_test = train_test_split(X, y, test_size=0.20)\n"
   ]
  },
  {
   "cell_type": "markdown",
   "id": "47e6602a",
   "metadata": {},
   "source": [
    "разделяем наши данные на обучающие и тестовые наборы\n",
    "В приведенном выше коде параметр test_size указывает соотношение набора тестов, которое мы используем для разделения 20% данных на набор тестов и 80% для обучения.\n"
   ]
  },
  {
   "cell_type": "markdown",
   "id": "81a5a72d",
   "metadata": {},
   "source": [
    "обучаем алгоритм дерева решений на этих данных и сделаем прогнозы\n"
   ]
  },
  {
   "cell_type": "markdown",
   "id": "87b495ee",
   "metadata": {},
   "source": [
    "мы будем использовать класс DecisionTreeClassifier. Метод подгонки этого класса вызывается для обучения алгоритма на обучающих данных, которые передаются в качестве параметра методу подгонки."
   ]
  },
  {
   "cell_type": "code",
   "execution_count": null,
   "id": "47d77771",
   "metadata": {},
   "outputs": [],
   "source": [
    "from sklearn.tree import DecisionTreeClassifier \n",
    "classifier = DecisionTreeClassifier() \n",
    "classifier.fit(X_train, y_train)\n"
   ]
  },
  {
   "cell_type": "code",
   "execution_count": 126,
   "id": "855759e6",
   "metadata": {},
   "outputs": [],
   "source": [
    "y_pred = classifier.predict(X_test)\n"
   ]
  },
  {
   "cell_type": "markdown",
   "id": "20f22cbe",
   "metadata": {},
   "source": [
    "Добавила zero_division=0, тк датасет содержит классы, которые не были предсказаны моделью"
   ]
  },
  {
   "cell_type": "code",
   "execution_count": 127,
   "id": "ced6acb1",
   "metadata": {},
   "outputs": [
    {
     "name": "stdout",
     "output_type": "stream",
     "text": [
      "[[  0   2]\n",
      " [  0 421]]\n",
      "              precision    recall  f1-score   support\n",
      "\n",
      "  Obesity II       0.00      0.00      0.00         2\n",
      " Obesity III       1.00      1.00      1.00       421\n",
      "\n",
      "    accuracy                           1.00       423\n",
      "   macro avg       0.50      0.50      0.50       423\n",
      "weighted avg       0.99      1.00      0.99       423\n",
      "\n"
     ]
    }
   ],
   "source": [
    "from sklearn.metrics import classification_report, confusion_matrix \n",
    "print(confusion_matrix(y_test, y_pred)) \n",
    "print(classification_report(y_test, y_pred, zero_division=0))\n"
   ]
  },
  {
   "cell_type": "markdown",
   "id": "78e4dd51",
   "metadata": {},
   "source": [
    "Результаты совпали с алгоритмом KNN"
   ]
  },
  {
   "cell_type": "markdown",
   "id": "1ba630d1",
   "metadata": {},
   "source": [
    "Общий вывод: \n",
    "1) Хочется заметить в данном датасете имеется метка, в нашем случае это атрибут \"Obesity_values\", но при анализе получили такой результат Obesity III = 2106, Obesity II = 5, что сразу указывает на несбалансированность классов, это можно было бы решить с помощью модуля NEARMISS\n",
    "2) Опираясь на п.1 класс Obesity II в итоге не был предсказан моделью, из за чего в итоговом результате precision    recall  f1-score равны нулю\n",
    "3) в 1 и 2 алгоритме класс Obesity III получил в результате f1-score означает, что модель идеально классифицировала все данные"
   ]
  }
 ],
 "metadata": {
  "kernelspec": {
   "display_name": "Python 3 (ipykernel)",
   "language": "python",
   "name": "python3"
  },
  "language_info": {
   "codemirror_mode": {
    "name": "ipython",
    "version": 3
   },
   "file_extension": ".py",
   "mimetype": "text/x-python",
   "name": "python",
   "nbconvert_exporter": "python",
   "pygments_lexer": "ipython3",
   "version": "3.11.5"
  }
 },
 "nbformat": 4,
 "nbformat_minor": 5
}
