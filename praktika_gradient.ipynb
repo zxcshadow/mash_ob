{
 "cells": [
  {
   "cell_type": "code",
   "execution_count": 6,
   "id": "38a936b8",
   "metadata": {},
   "outputs": [],
   "source": [
    "import pandas as pd\n",
    "import numpy as np\n",
    "import pickle\n",
    "import os\n",
    "import matplotlib.pyplot as plt\n",
    "import seaborn as sns\n",
    "from sklearn.model_selection import train_test_split\n",
    "import xgboost as xgb\n",
    "from sklearn.ensemble import  GradientBoostingClassifier\n",
    "from sklearn.metrics import (\n",
    "        f1_score, classification_report, \n",
    "        confusion_matrix, roc_curve, \n",
    "        roc_auc_score, accuracy_score,\n",
    "        log_loss)\n",
    "from datetime import datetime\n",
    "import time"
   ]
  },
  {
   "cell_type": "code",
   "execution_count": 23,
   "id": "11da0556",
   "metadata": {},
   "outputs": [],
   "source": [
    "def data_prepare(device_number):\n",
    "    result=pd.DataFrame()\n",
    "    file_names = [\"benign\",\"mirai.ack\", \"mirai.scan\", \"mirai.syn\", \"mirai.udp\", \"mirai.udpplain\",\n",
    "                 \"gafgyt.combo\", \"gafgyt.junk\", \"gafgyt.scan\", \"gafgyt.tcp\", \"gafgyt.udp\"]\n",
    "    for file_name in file_names:\n",
    "        if os.path.exists('C://Users//HP//dataset//'+str(device_number)+'.'+ file_name +'.csv'):\n",
    "            d = pd.read_csv('C://Users//HP//dataset//'+str(i)+'.'+ file_name +'.csv')\n",
    "            d[\"Class\"] = file_name\n",
    "            result = pd.concat([result,d], axis=0, sort=False, ignore_index=True)\n",
    "    return result"
   ]
  },
  {
   "cell_type": "code",
   "execution_count": null,
   "id": "bf6368a1",
   "metadata": {},
   "outputs": [],
   "source": [
    "dataframe = {\"device_1\": data_prepare(1), \n",
    "            \"device_2\": data_prepare(2) ,\n",
    "            \"device_3\": data_prepare(3) ,\n",
    "            \"device_4\": data_prepare(4) ,\n",
    "            \"device_5\": data_prepare(5) ,\n",
    "            \"device_6\": data_prepare(6) ,\n",
    "            \"device_7\": data_prepare(7) ,\n",
    "            \"device_8\": data_prepare(8) ,\n",
    "            \"device_9\": data_prepare(9) \n",
    "            }"
   ]
  },
  {
   "cell_type": "code",
   "execution_count": null,
   "id": "471e566a",
   "metadata": {},
   "outputs": [],
   "source": [
    "def gradient_boosting_classifier(data, device_name, t_size):\n",
    "    X = data.drop(['Class'], axis=1)\n",
    "    y = data['Class']\n",
    "    X_train, X_test, y_train, y_test = train_test_split(X, y, test_size=t_size, random_state=47)\n",
    "        \n",
    "    clf = GradientBoostingClassifier()\n",
    "    model_res = clf.fit(X_train, y_train)\n",
    "    y_pred = model_res.predict(X_test)\n",
    "    y_pred_prob = model_res.predict_proba(X_test)\n",
    "    lr_probs = y_pred_prob[:,1]\n",
    "    importances = pd.DataFrame({'feature':X.columns,'importance':np.round(clf.feature_importances_,3)})\n",
    "    importances = importances.sort_values('importance',ascending=False).set_index('feature')\n",
    " \n",
    "    print(importances.head(20))\n",
    "    \n",
    "    print('Accuracy: ')\n",
    "    print(accuracy_score(y_test, y_pred))\n",
    "    print('f1-score: ')\n",
    "    print(f1_score(y_test, y_pred, average='weighted'))\n",
    "    print('Confusion Matrix: ')\n",
    "    print(confusion_matrix(y_test, y_pred))\n",
    "    print('Classification Report: ')\n",
    "    print(classification_report(y_test, y_pred))"
   ]
  },
  {
   "cell_type": "code",
   "execution_count": null,
   "id": "4cbda33a",
   "metadata": {},
   "outputs": [],
   "source": [
    "for k in dataframe:\n",
    "    print(\"-------------------------------------------------------------------------------\")\n",
    "    print(k)\n",
    "    gradient_boosting_classifier(dataframe[k], k, 0.30)\n",
    "    print(\"-------------------------------------------------------------------------------\")"
   ]
  },
  {
   "cell_type": "code",
   "execution_count": null,
   "id": "b6e2d730",
   "metadata": {},
   "outputs": [],
   "source": [
    "def time_depend_test_size(ts):\n",
    "    start_time = time.time() \n",
    "    for k in dataframe:\n",
    "        print(k)\n",
    "        X = dataframe[k].drop(['Class'], axis=1)\n",
    "        y = dataframe[k]['Class']\n",
    "        X_train, X_test, y_train, y_test = train_test_split(X, y, test_size=ts, random_state=47)\n",
    "        clf = GradientBoostingClassifier()\n",
    "        model_res = clf.fit(X_train, y_train)\n",
    "        y_pred = model_res.predict(X_test)\n",
    "        y_pred_prob = model_res.predict_proba(X_test)\n",
    "        lr_probs = y_pred_prob[:,1]\n",
    "    end_time = time.time()\n",
    "    elapsed_time = end_time - start_time\n",
    "    return elapsed_time"
   ]
  },
  {
   "cell_type": "code",
   "execution_count": null,
   "id": "d2685604",
   "metadata": {},
   "outputs": [],
   "source": [
    "time_df = pd.DataFrame({\"0.20\": [time_depend_test_size(0.20)],\n",
    "                       \"0.30\":[time_depend_test_size(0.30)],\n",
    "                       \"0.50\":[time_depend_test_size(0.50)],\n",
    "                       \"0.75\":[time_depend_test_size(0.75)]})"
   ]
  }
 ],
 "metadata": {
  "kernelspec": {
   "display_name": "Python 3 (ipykernel)",
   "language": "python",
   "name": "python3"
  },
  "language_info": {
   "codemirror_mode": {
    "name": "ipython",
    "version": 3
   },
   "file_extension": ".py",
   "mimetype": "text/x-python",
   "name": "python",
   "nbconvert_exporter": "python",
   "pygments_lexer": "ipython3",
   "version": "3.11.5"
  }
 },
 "nbformat": 4,
 "nbformat_minor": 5
}
